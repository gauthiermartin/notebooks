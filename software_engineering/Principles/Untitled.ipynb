{
 "cells": [
  {
   "cell_type": "code",
   "execution_count": 2,
   "metadata": {},
   "outputs": [],
   "source": [
    "pattern = \"GCATGCTGC\"\n",
    "text = \"GAATCBTGCTGTTGCAGCATGCTGC\""
   ]
  },
  {
   "cell_type": "code",
   "execution_count": 6,
   "metadata": {},
   "outputs": [],
   "source": [
    "def kmp_search(pattern, text):\n",
    "\tif pattern == \"\":\n",
    "\t\treturn 0  # Immediate match\n",
    "\t\n",
    "\t# Compute longest suffix-prefix table\n",
    "\tlsp = [0]  # Base case\n",
    "\tfor c in pattern[1 : ]:\n",
    "\t\tj = lsp[-1]  # Start by assuming we're extending the previous LSP\n",
    "\t\twhile j > 0 and c != pattern[j]:\n",
    "\t\t\tj = lsp[j - 1]\n",
    "\t\tif c == pattern[j]:\n",
    "\t\t\tj += 1\n",
    "\t\tlsp.append(j)\n",
    "\t\n",
    "\t# Walk through text string\n",
    "\tj = 0  # Number of chars matched in pattern\n",
    "\tfor i in range(len(text)):\n",
    "\t\twhile j > 0 and text[i] != pattern[j]:\n",
    "\t\t\tj = lsp[j - 1]  # Fall back in the pattern\n",
    "\t\tif text[i] == pattern[j]:\n",
    "\t\t\tj += 1  # Next char matched, increment position\n",
    "\t\t\tif j == len(pattern):\n",
    "\t\t\t\treturn i - (j - 1)\n",
    "\treturn None  # Not found\n"
   ]
  },
  {
   "cell_type": "code",
   "execution_count": 7,
   "metadata": {},
   "outputs": [
    {
     "data": {
      "text/plain": [
       "16"
      ]
     },
     "execution_count": 7,
     "metadata": {},
     "output_type": "execute_result"
    }
   ],
   "source": [
    "kmp_search(pattern, text)\n"
   ]
  }
 ],
 "metadata": {
  "kernelspec": {
   "display_name": "Python3.7-DL",
   "language": "python",
   "name": "deep_learning"
  },
  "language_info": {
   "codemirror_mode": {
    "name": "ipython",
    "version": 3
   },
   "file_extension": ".py",
   "mimetype": "text/x-python",
   "name": "python",
   "nbconvert_exporter": "python",
   "pygments_lexer": "ipython3",
   "version": "3.7.0"
  }
 },
 "nbformat": 4,
 "nbformat_minor": 2
}
