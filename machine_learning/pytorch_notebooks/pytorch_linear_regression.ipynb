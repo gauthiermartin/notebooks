{
 "cells": [
  {
   "cell_type": "markdown",
   "metadata": {},
   "source": [
    "# 6. Linear Regression with PyTorch\n",
    "## 1. About Linear Regression\n"
   ]
  },
  {
   "cell_type": "markdown",
   "metadata": {},
   "source": [
    "### 1.1 Simple Linear Regression Basics\n",
    "- Allows us to understand **relationship** between two **continuous variables**\n",
    "- Example \n",
    "    - x: independent variable (X does not depend on Y)\n",
    "        - weight\n",
    "    - y: dependent variable (Y depends on X)\n",
    "        - height\n",
    "- $y = \\alpha x + \\beta$"
   ]
  },
  {
   "cell_type": "markdown",
   "metadata": {},
   "source": [
    "### 1.2 Example of simple linear regression"
   ]
  },
  {
   "cell_type": "code",
   "execution_count": 1,
   "metadata": {},
   "outputs": [
    {
     "data": {
      "image/png": "[encoded data removed]",
      "text/plain": [
       "<Figure size 432x288 with 1 Axes>"
      ]
     },
     "metadata": {
      "needs_background": "light"
     },
     "output_type": "display_data"
    }
   ],
   "source": [
    "import numpy as np\n",
    "import matplotlib.pyplot as plt\n",
    "%matplotlib inline\n",
    "\n",
    "np.random.seed(1)\n",
    "n = 50\n",
    "x = np.random.randn(n)\n",
    "y = x * np.random.randn(n)\n",
    "\n",
    "colors = np.random.rand(n)\n",
    "plt.plot(np.unique(x), np.poly1d(np.polyfit(x, y, 1))(np.unique(x)))\n",
    "\n",
    "plt.scatter(x, y, c=colors, alpha=0.5)\n",
    "plt.show()"
   ]
  },
  {
   "cell_type": "markdown",
   "metadata": {},
   "source": [
    "### 1.3 Aim of Linear Regression\n",
    "- Minimize the distance between the points and the line ($y = \\alpha x + \\beta$)\n",
    "- Adjusting\n",
    "    - Coefficient: $\\alpha$\n",
    "    - Bias/intercept: $\\beta$\n",
    "\n",
    "## 2. Building a Linear Regression Model with PyTorch\n",
    "\n",
    "### 2.1 Example\n",
    "- Coefficient: $\\alpha = 2$\n",
    "- Bias/intercept: $\\beta = 1$\n",
    "- Equation: $y = 2x + 1$"
   ]
  },
  {
   "cell_type": "markdown",
   "metadata": {},
   "source": [
    "### 2.2 Building a Toy Dataset"
   ]
  },
  {
   "cell_type": "code",
   "execution_count": 2,
   "metadata": {},
   "outputs": [],
   "source": [
    "x_values = [i for i in range(11)]"
   ]
  },
  {
   "cell_type": "code",
   "execution_count": 3,
   "metadata": {},
   "outputs": [
    {
     "data": {
      "text/plain": [
       "[0, 1, 2, 3, 4, 5, 6, 7, 8, 9, 10]"
      ]
     },
     "execution_count": 3,
     "metadata": {},
     "output_type": "execute_result"
    }
   ],
   "source": [
    "x_values"
   ]
  },
  {
   "cell_type": "code",
   "execution_count": 4,
   "metadata": {},
   "outputs": [
    {
     "data": {
      "text/plain": [
       "(11,)"
      ]
     },
     "execution_count": 4,
     "metadata": {},
     "output_type": "execute_result"
    }
   ],
   "source": [
    "# Convert to numpy\n",
    "x_train = np.array(x_values, dtype=np.float32)\n",
    "x_train.shape"
   ]
  },
  {
   "cell_type": "code",
   "execution_count": 5,
   "metadata": {},
   "outputs": [
    {
     "data": {
      "text/plain": [
       "(11, 1)"
      ]
     },
     "execution_count": 5,
     "metadata": {},
     "output_type": "execute_result"
    }
   ],
   "source": [
    "# IMPORTANT: 2D required\n",
    "x_train = x_train.reshape(-1, 1)\n",
    "x_train.shape"
   ]
  },
  {
   "cell_type": "markdown",
   "metadata": {},
   "source": [
    "$y = 2x + 1$"
   ]
  },
  {
   "cell_type": "code",
   "execution_count": 6,
   "metadata": {},
   "outputs": [],
   "source": [
    "y_values = [2*i + 1 for i in x_values]"
   ]
  },
  {
   "cell_type": "code",
   "execution_count": 7,
   "metadata": {},
   "outputs": [
    {
     "data": {
      "text/plain": [
       "[1, 3, 5, 7, 9, 11, 13, 15, 17, 19, 21]"
      ]
     },
     "execution_count": 7,
     "metadata": {},
     "output_type": "execute_result"
    }
   ],
   "source": [
    "y_values"
   ]
  },
  {
   "cell_type": "code",
   "execution_count": 8,
   "metadata": {},
   "outputs": [],
   "source": [
    "# In case you're weak in list iterators...\n",
    "y_values = []\n",
    "for i in x_values:\n",
    "    result = 2*i + 1\n",
    "    y_values.append(result) "
   ]
  },
  {
   "cell_type": "code",
   "execution_count": 9,
   "metadata": {},
   "outputs": [
    {
     "data": {
      "text/plain": [
       "[1, 3, 5, 7, 9, 11, 13, 15, 17, 19, 21]"
      ]
     },
     "execution_count": 9,
     "metadata": {},
     "output_type": "execute_result"
    }
   ],
   "source": [
    "y_values"
   ]
  },
  {
   "cell_type": "code",
   "execution_count": 10,
   "metadata": {},
   "outputs": [
    {
     "data": {
      "text/plain": [
       "(11,)"
      ]
     },
     "execution_count": 10,
     "metadata": {},
     "output_type": "execute_result"
    }
   ],
   "source": [
    "y_train = np.array(y_values, dtype=np.float32)\n",
    "y_train.shape"
   ]
  },
  {
   "cell_type": "code",
   "execution_count": 11,
   "metadata": {},
   "outputs": [
    {
     "data": {
      "text/plain": [
       "(11, 1)"
      ]
     },
     "execution_count": 11,
     "metadata": {},
     "output_type": "execute_result"
    }
   ],
   "source": [
    "# IMPORTANT: 2D required\n",
    "y_train = y_train.reshape(-1, 1)\n",
    "y_train.shape"
   ]
  },
  {
   "cell_type": "markdown",
   "metadata": {},
   "source": [
    "### 2.3 Building Model"
   ]
  },
  {
   "cell_type": "markdown",
   "metadata": {},
   "source": [
    "**Critical Imports**"
   ]
  },
  {
   "cell_type": "code",
   "execution_count": 12,
   "metadata": {},
   "outputs": [],
   "source": [
    "import torch\n",
    "import torch.nn as nn"
   ]
  },
  {
   "cell_type": "markdown",
   "metadata": {},
   "source": [
    "**Create Model**\n",
    "1. Linear model\n",
    "    - True Equation: $y = 2x + 1$\n",
    "2. Forward\n",
    "    - Example\n",
    "        - Input $x = 1 $\n",
    "        - Output $\\hat y = ?$"
   ]
  },
  {
   "cell_type": "code",
   "execution_count": 13,
   "metadata": {},
   "outputs": [],
   "source": [
    "# Create class\n",
    "class LinearRegressionModel(nn.Module):\n",
    "    def __init__(self, input_dim, output_dim):\n",
    "        super(LinearRegressionModel, self).__init__()\n",
    "        self.linear = nn.Linear(input_dim, output_dim)  \n",
    "    \n",
    "    def forward(self, x):\n",
    "        out = self.linear(x)\n",
    "        return out"
   ]
  },
  {
   "cell_type": "markdown",
   "metadata": {},
   "source": [
    "**Instantiate Model Class**\n",
    "- input: [0, 1, 2, 3, 4, 5, 6, 7, 8, 9, 10]\n",
    "- desired output: [1, 3, 5, 7, 9, 11, 13, 15, 17, 19, 21]"
   ]
  },
  {
   "cell_type": "code",
   "execution_count": 14,
   "metadata": {},
   "outputs": [],
   "source": [
    "input_dim = 1\n",
    "output_dim = 1\n",
    "\n",
    "model = LinearRegressionModel(input_dim, output_dim)"
   ]
  },
  {
   "cell_type": "markdown",
   "metadata": {},
   "source": [
    "**Instantiate Loss Class**\n",
    "- MSE Loss: Mean Squared Error\n",
    "- $MSE = \\frac{1}{n} \\sum_{i=1}^n(\\hat y_i - y_i)$\n",
    "    - $\\hat y$: prediction\n",
    "    - $y$: true value"
   ]
  },
  {
   "cell_type": "code",
   "execution_count": 15,
   "metadata": {},
   "outputs": [],
   "source": [
    "criterion = nn.MSELoss()"
   ]
  },
  {
   "cell_type": "markdown",
   "metadata": {},
   "source": [
    "**Instantiate Optimizer Class**\n",
    "- Simplified equation\n",
    "    - $\\theta = \\theta - \\eta \\cdot \\nabla_\\theta $\n",
    "        - $\\theta$: parameters (our variables)\n",
    "        - $\\eta$: learning rate (how fast we want to learn)\n",
    "        - $\\nabla_\\theta$: parameters' gradients\n",
    "- Even simplier equation\n",
    "    - `parameters = parameters - learning_rate * parameters_gradients`\n",
    "        - parameters: $\\alpha$ and $\\beta$ in $ y = \\alpha x + \\beta$\n",
    "        - desired parameters: $\\alpha = 2$ and $\\beta = 1$ in $ y = 2x + 1$"
   ]
  },
  {
   "cell_type": "code",
   "execution_count": 16,
   "metadata": {},
   "outputs": [],
   "source": [
    "learning_rate = 0.01\n",
    "\n",
    "optimizer = torch.optim.SGD(model.parameters(), lr=learning_rate)"
   ]
  },
  {
   "cell_type": "markdown",
   "metadata": {},
   "source": [
    "**Train Model**\n",
    "- 1 epoch: going through the whole x_train data once\n",
    "    - 100 epochs: \n",
    "        - 100x mapping `x_train = [0, 1, 2, 3, 4, 5, 6, 7, 8, 9, 10]`\n",
    "        \n",
    "- Process \n",
    "    1. Convert inputs/labels to tensors with gradients\n",
    "    2. Clear gradient buffets\n",
    "    3. Get output given inputs \n",
    "    4. Get loss\n",
    "    5. Get gradients w.r.t. parameters\n",
    "    6. Update parameters using gradients\n",
    "        - `parameters = parameters - learning_rate * parameters_gradients`\n",
    "    7. REPEAT"
   ]
  },
  {
   "cell_type": "code",
   "execution_count": 21,
   "metadata": {},
   "outputs": [],
   "source": [
    "epochs = 100"
   ]
  },
  {
   "cell_type": "code",
   "execution_count": 22,
   "metadata": {
    "scrolled": true
   },
   "outputs": [
    {
     "name": "stdout",
     "output_type": "stream",
     "text": [
      "epoch 1, loss 3.3986082144110696e-06\n",
      "epoch 2, loss 3.3609874208195833e-06\n",
      "epoch 3, loss 3.3234596230613533e-06\n",
      "epoch 4, loss 3.286183073214488e-06\n",
      "epoch 5, loss 3.249311248509912e-06\n",
      "epoch 6, loss 3.2126872611115687e-06\n",
      "epoch 7, loss 3.177578491886379e-06\n",
      "epoch 8, loss 3.1424090138898464e-06\n",
      "epoch 9, loss 3.106358462900971e-06\n",
      "epoch 10, loss 3.0719129426870495e-06\n",
      "epoch 11, loss 3.0378571409528377e-06\n",
      "epoch 12, loss 3.0038256682018982e-06\n",
      "epoch 13, loss 2.9706297937082127e-06\n",
      "epoch 14, loss 2.9367965908022597e-06\n",
      "epoch 15, loss 2.9050622742943233e-06\n",
      "epoch 16, loss 2.8718820885842433e-06\n",
      "epoch 17, loss 2.8397093956300523e-06\n",
      "epoch 18, loss 2.8081483378628036e-06\n",
      "epoch 19, loss 2.7772482553700684e-06\n",
      "epoch 20, loss 2.745791107372497e-06\n",
      "epoch 21, loss 2.7151668291480746e-06\n",
      "epoch 22, loss 2.684775381567306e-06\n",
      "epoch 23, loss 2.654508989508031e-06\n",
      "epoch 24, loss 2.625345587148331e-06\n",
      "epoch 25, loss 2.596129206722253e-06\n",
      "epoch 26, loss 2.5669849037512904e-06\n",
      "epoch 27, loss 2.537632326493622e-06\n",
      "epoch 28, loss 2.5099625418079086e-06\n",
      "epoch 29, loss 2.4815874439809704e-06\n",
      "epoch 30, loss 2.454454261169303e-06\n",
      "epoch 31, loss 2.4266118998639286e-06\n",
      "epoch 32, loss 2.400173571004416e-06\n",
      "epoch 33, loss 2.3728664473310346e-06\n",
      "epoch 34, loss 2.3467835035262397e-06\n",
      "epoch 35, loss 2.3199831957754213e-06\n",
      "epoch 36, loss 2.2937042558623943e-06\n",
      "epoch 37, loss 2.2688730041409144e-06\n",
      "epoch 38, loss 2.2434903712564847e-06\n",
      "epoch 39, loss 2.218127747255494e-06\n",
      "epoch 40, loss 2.1927376110397745e-06\n",
      "epoch 41, loss 2.1695468603866175e-06\n",
      "epoch 42, loss 2.1453065528476145e-06\n",
      "epoch 43, loss 2.121139914379455e-06\n",
      "epoch 44, loss 2.097282276736223e-06\n",
      "epoch 45, loss 2.0740656054840656e-06\n",
      "epoch 46, loss 2.0508630313997855e-06\n",
      "epoch 47, loss 2.026977881541825e-06\n",
      "epoch 48, loss 2.004973794100806e-06\n",
      "epoch 49, loss 1.9828364656859776e-06\n",
      "epoch 50, loss 1.9607500689744484e-06\n",
      "epoch 51, loss 1.9380954654479865e-06\n",
      "epoch 52, loss 1.9171045551047428e-06\n",
      "epoch 53, loss 1.8956857275043149e-06\n",
      "epoch 54, loss 1.8742262000159826e-06\n",
      "epoch 55, loss 1.8532539343141252e-06\n",
      "epoch 56, loss 1.8324660686630523e-06\n",
      "epoch 57, loss 1.8124042071576696e-06\n",
      "epoch 58, loss 1.791877593859681e-06\n",
      "epoch 59, loss 1.771476490830537e-06\n",
      "epoch 60, loss 1.7522107782497187e-06\n",
      "epoch 61, loss 1.732836608425714e-06\n",
      "epoch 62, loss 1.7134607332991436e-06\n",
      "epoch 63, loss 1.6939594615905662e-06\n",
      "epoch 64, loss 1.675871089901193e-06\n",
      "epoch 65, loss 1.65705819199502e-06\n",
      "epoch 66, loss 1.6385962453568936e-06\n",
      "epoch 67, loss 1.6200647223740816e-06\n",
      "epoch 68, loss 1.6019498616515193e-06\n",
      "epoch 69, loss 1.5842718994463212e-06\n",
      "epoch 70, loss 1.5667816342102014e-06\n",
      "epoch 71, loss 1.5484380355701433e-06\n",
      "epoch 72, loss 1.53128326019214e-06\n",
      "epoch 73, loss 1.5143825748964446e-06\n",
      "epoch 74, loss 1.4974638133935514e-06\n",
      "epoch 75, loss 1.4812011386311497e-06\n",
      "epoch 76, loss 1.4639332448496134e-06\n",
      "epoch 77, loss 1.4478091543423943e-06\n",
      "epoch 78, loss 1.4319221008918248e-06\n",
      "epoch 79, loss 1.4156095176076633e-06\n",
      "epoch 80, loss 1.3998089798406e-06\n",
      "epoch 81, loss 1.3838102859153878e-06\n",
      "epoch 82, loss 1.3687732689504628e-06\n",
      "epoch 83, loss 1.3531890772355837e-06\n",
      "epoch 84, loss 1.3377886034504627e-06\n",
      "epoch 85, loss 1.3232069022706128e-06\n",
      "epoch 86, loss 1.3086377066429122e-06\n",
      "epoch 87, loss 1.2933707012052764e-06\n",
      "epoch 88, loss 1.279779098695144e-06\n",
      "epoch 89, loss 1.26524400911876e-06\n",
      "epoch 90, loss 1.2510155329437112e-06\n",
      "epoch 91, loss 1.2368103625703952e-06\n",
      "epoch 92, loss 1.222790729116241e-06\n",
      "epoch 93, loss 1.2093809118596255e-06\n",
      "epoch 94, loss 1.1955571608268656e-06\n",
      "epoch 95, loss 1.1823949535028078e-06\n",
      "epoch 96, loss 1.169449546978285e-06\n",
      "epoch 97, loss 1.156366238319606e-06\n",
      "epoch 98, loss 1.1434473208282725e-06\n",
      "epoch 99, loss 1.1307373597446713e-06\n",
      "epoch 100, loss 1.1181404033777653e-06\n"
     ]
    }
   ],
   "source": [
    "for epoch in range(epochs):\n",
    "    epoch += 1\n",
    "    # Convert numpy array to torch Variable\n",
    "    inputs = torch.from_numpy(x_train).requires_grad_()\n",
    "    labels = torch.from_numpy(y_train)\n",
    "\n",
    "    # Clear gradients w.r.t. parameters\n",
    "    optimizer.zero_grad() \n",
    "    \n",
    "    # Forward to get output\n",
    "    outputs = model(inputs)    \n",
    "    \n",
    "    # Calculate Loss\n",
    "    loss = criterion(outputs, labels)\n",
    "    \n",
    "    # Getting gradients w.r.t. parameters\n",
    "    loss.backward()\n",
    "    \n",
    "    # Updating parameters\n",
    "    optimizer.step()\n",
    "    \n",
    "    print('epoch {}, loss {}'.format(epoch, loss.item()))"
   ]
  },
  {
   "cell_type": "markdown",
   "metadata": {},
   "source": [
    "**Compare Data**"
   ]
  },
  {
   "cell_type": "code",
   "execution_count": 19,
   "metadata": {},
   "outputs": [
    {
     "data": {
      "text/plain": [
       "array([[ 0.9756333],\n",
       "       [ 2.9791424],\n",
       "       [ 4.982651 ],\n",
       "       [ 6.9861603],\n",
       "       [ 8.98967  ],\n",
       "       [10.993179 ],\n",
       "       [12.996688 ],\n",
       "       [15.000196 ],\n",
       "       [17.003706 ],\n",
       "       [19.007215 ],\n",
       "       [21.010725 ]], dtype=float32)"
      ]
     },
     "execution_count": 19,
     "metadata": {},
     "output_type": "execute_result"
    }
   ],
   "source": [
    "# Purely inference\n",
    "predicted = model(torch.from_numpy(x_train).requires_grad_()).data.numpy()\n",
    "predicted"
   ]
  },
  {
   "cell_type": "code",
   "execution_count": 20,
   "metadata": {},
   "outputs": [
    {
     "data": {
      "text/plain": [
       "array([[ 1.],\n",
       "       [ 3.],\n",
       "       [ 5.],\n",
       "       [ 7.],\n",
       "       [ 9.],\n",
       "       [11.],\n",
       "       [13.],\n",
       "       [15.],\n",
       "       [17.],\n",
       "       [19.],\n",
       "       [21.]], dtype=float32)"
      ]
     },
     "execution_count": 20,
     "metadata": {},
     "output_type": "execute_result"
    }
   ],
   "source": [
    "# y = 2x + 1 \n",
    "y_train"
   ]
  },
  {
   "cell_type": "markdown",
   "metadata": {},
   "source": [
    "**Plot Graph**"
   ]
  },
  {
   "cell_type": "code",
   "execution_count": 23,
   "metadata": {},
   "outputs": [
    {
     "data": {
      "image/png": "[encoded data removed]",
      "text/plain": [
       "<Figure size 432x288 with 1 Axes>"
      ]
     },
     "metadata": {
      "needs_background": "light"
     },
     "output_type": "display_data"
    }
   ],
   "source": [
    "# Clear figure\n",
    "plt.clf()\n",
    "\n",
    "# Get predictions\n",
    "predicted = model(torch.from_numpy(x_train).requires_grad_()).data.numpy()\n",
    "\n",
    "# Plot true data\n",
    "plt.plot(x_train, y_train, 'go', label='True data', alpha=0.5)\n",
    "\n",
    "# Plot predictions\n",
    "plt.plot(x_train, predicted, '--', label='Predictions', alpha=0.5)\n",
    "\n",
    "# Legend and plot\n",
    "plt.legend(loc='best')\n",
    "plt.show()"
   ]
  },
  {
   "cell_type": "markdown",
   "metadata": {},
   "source": [
    "**Save Model**"
   ]
  },
  {
   "cell_type": "code",
   "execution_count": 22,
   "metadata": {
    "collapsed": true
   },
   "outputs": [],
   "source": [
    "save_model = False\n",
    "if save_model is True: \n",
    "    # Saves only parameters\n",
    "    # alpha & beta\n",
    "    torch.save(model.state_dict(), 'awesome_model.pkl')"
   ]
  },
  {
   "cell_type": "markdown",
   "metadata": {},
   "source": [
    "**Load Model**"
   ]
  },
  {
   "cell_type": "code",
   "execution_count": 23,
   "metadata": {
    "collapsed": true
   },
   "outputs": [],
   "source": [
    "load_model = False\n",
    "if load_model is True:\n",
    "    model.load_state_dict(torch.load('awesome_model.pkl'))"
   ]
  },
  {
   "cell_type": "markdown",
   "metadata": {},
   "source": [
    "## 3. Building a Linear Regression Model with PyTorch (GPU)\n",
    "\n"
   ]
  },
  {
   "cell_type": "markdown",
   "metadata": {},
   "source": [
    "**CPU Summary**"
   ]
  },
  {
   "cell_type": "code",
   "execution_count": 24,
   "metadata": {
    "collapsed": true
   },
   "outputs": [],
   "source": [
    "import torch\n",
    "import torch.nn as nn\n",
    "\n",
    "'''\n",
    "STEP 1: CREATE MODEL CLASS\n",
    "'''\n",
    "class LinearRegressionModel(nn.Module):\n",
    "    def __init__(self, input_dim, output_dim):\n",
    "        super(LinearRegressionModel, self).__init__()\n",
    "        self.linear = nn.Linear(input_dim, output_dim)  \n",
    "    \n",
    "    def forward(self, x):\n",
    "        out = self.linear(x)\n",
    "        return out\n",
    "\n",
    "'''\n",
    "STEP 2: INSTANTIATE MODEL CLASS\n",
    "'''\n",
    "input_dim = 1\n",
    "output_dim = 1\n",
    "\n",
    "model = LinearRegressionModel(input_dim, output_dim)\n",
    "\n",
    "'''\n",
    "STEP 3: INSTANTIATE LOSS CLASS\n",
    "'''\n",
    "\n",
    "criterion = nn.MSELoss()\n",
    "\n",
    "'''\n",
    "STEP 4: INSTANTIATE OPTIMIZER CLASS\n",
    "'''\n",
    "\n",
    "learning_rate = 0.01\n",
    "\n",
    "optimizer = torch.optim.SGD(model.parameters(), lr=learning_rate)\n",
    "\n",
    "'''\n",
    "STEP 5: TRAIN THE MODEL\n",
    "'''\n",
    "epochs = 100\n",
    "for epoch in range(epochs):\n",
    "    epoch += 1\n",
    "    # Convert numpy array to torch Variable\n",
    "    inputs = torch.from_numpy(x_train).requires_grad_()\n",
    "    labels = torch.from_numpy(y_train)\n",
    "\n",
    "    # Clear gradients w.r.t. parameters\n",
    "    optimizer.zero_grad() \n",
    "    \n",
    "    # Forward to get output\n",
    "    outputs = model(inputs)\n",
    "    \n",
    "    # Calculate Loss\n",
    "    loss = criterion(outputs, labels)\n",
    "    \n",
    "    # Getting gradients w.r.t. parameters\n",
    "    loss.backward()\n",
    "    \n",
    "    # Updating parameters\n",
    "    optimizer.step()"
   ]
  },
  {
   "cell_type": "markdown",
   "metadata": {},
   "source": [
    "GPU: 2 things must be on GPU\n",
    "- `model`\n",
    "- `tensors with gradients`"
   ]
  },
  {
   "cell_type": "code",
   "execution_count": 25,
   "metadata": {},
   "outputs": [
    {
     "name": "stdout",
     "output_type": "stream",
     "text": [
      "epoch 1, loss 336.0314025878906\n",
      "epoch 2, loss 27.67657470703125\n",
      "epoch 3, loss 2.5220539569854736\n",
      "epoch 4, loss 0.46732547879219055\n",
      "epoch 5, loss 0.2968060076236725\n",
      "epoch 6, loss 0.2800087630748749\n",
      "epoch 7, loss 0.27578213810920715\n",
      "epoch 8, loss 0.2726128399372101\n",
      "epoch 9, loss 0.269561231136322\n",
      "epoch 10, loss 0.2665504515171051\n",
      "epoch 11, loss 0.2635740041732788\n",
      "epoch 12, loss 0.26063060760498047\n",
      "epoch 13, loss 0.2577202618122101\n",
      "epoch 14, loss 0.2548423111438751\n",
      "epoch 15, loss 0.25199657678604126\n",
      "epoch 16, loss 0.24918246269226074\n",
      "epoch 17, loss 0.24639996886253357\n",
      "epoch 18, loss 0.24364829063415527\n",
      "epoch 19, loss 0.24092751741409302\n",
      "epoch 20, loss 0.2382371574640274\n",
      "epoch 21, loss 0.23557686805725098\n",
      "epoch 22, loss 0.2329462170600891\n",
      "epoch 23, loss 0.2303449958562851\n",
      "epoch 24, loss 0.22777271270751953\n",
      "epoch 25, loss 0.2252292037010193\n",
      "epoch 26, loss 0.22271405160427094\n",
      "epoch 27, loss 0.22022713720798492\n",
      "epoch 28, loss 0.21776780486106873\n",
      "epoch 29, loss 0.21533599495887756\n",
      "epoch 30, loss 0.21293145418167114\n",
      "epoch 31, loss 0.21055366098880768\n",
      "epoch 32, loss 0.20820240676403046\n",
      "epoch 33, loss 0.2058774083852768\n",
      "epoch 34, loss 0.20357847213745117\n",
      "epoch 35, loss 0.20130516588687897\n",
      "epoch 36, loss 0.1990572065114975\n",
      "epoch 37, loss 0.19683438539505005\n",
      "epoch 38, loss 0.19463638961315155\n",
      "epoch 39, loss 0.19246290624141693\n",
      "epoch 40, loss 0.1903136670589447\n",
      "epoch 41, loss 0.1881885528564453\n",
      "epoch 42, loss 0.18608702719211578\n",
      "epoch 43, loss 0.18400898575782776\n",
      "epoch 44, loss 0.18195408582687378\n",
      "epoch 45, loss 0.17992223799228668\n",
      "epoch 46, loss 0.17791320383548737\n",
      "epoch 47, loss 0.17592646181583405\n",
      "epoch 48, loss 0.17396186292171478\n",
      "epoch 49, loss 0.17201924324035645\n",
      "epoch 50, loss 0.17009828984737396\n",
      "epoch 51, loss 0.16819894313812256\n",
      "epoch 52, loss 0.16632060706615448\n",
      "epoch 53, loss 0.16446338593959808\n",
      "epoch 54, loss 0.16262666881084442\n",
      "epoch 55, loss 0.16081078350543976\n",
      "epoch 56, loss 0.15901507437229156\n",
      "epoch 57, loss 0.15723931789398193\n",
      "epoch 58, loss 0.15548335015773773\n",
      "epoch 59, loss 0.15374726057052612\n",
      "epoch 60, loss 0.1520303338766098\n",
      "epoch 61, loss 0.15033268928527832\n",
      "epoch 62, loss 0.14865389466285706\n",
      "epoch 63, loss 0.14699392020702362\n",
      "epoch 64, loss 0.14535246789455414\n",
      "epoch 65, loss 0.14372935891151428\n",
      "epoch 66, loss 0.14212435483932495\n",
      "epoch 67, loss 0.14053721725940704\n",
      "epoch 68, loss 0.13896773755550385\n",
      "epoch 69, loss 0.1374160647392273\n",
      "epoch 70, loss 0.1358814686536789\n",
      "epoch 71, loss 0.13436420261859894\n",
      "epoch 72, loss 0.13286370038986206\n",
      "epoch 73, loss 0.1313801407814026\n",
      "epoch 74, loss 0.12991292774677277\n",
      "epoch 75, loss 0.12846232950687408\n",
      "epoch 76, loss 0.1270277351140976\n",
      "epoch 77, loss 0.12560924887657166\n",
      "epoch 78, loss 0.12420656532049179\n",
      "epoch 79, loss 0.12281957268714905\n",
      "epoch 80, loss 0.1214480847120285\n",
      "epoch 81, loss 0.12009195983409882\n",
      "epoch 82, loss 0.1187509223818779\n",
      "epoch 83, loss 0.11742479354143143\n",
      "epoch 84, loss 0.11611353605985641\n",
      "epoch 85, loss 0.11481687426567078\n",
      "epoch 86, loss 0.11353478580713272\n",
      "epoch 87, loss 0.11226697266101837\n",
      "epoch 88, loss 0.11101329326629639\n",
      "epoch 89, loss 0.10977360606193542\n",
      "epoch 90, loss 0.10854770988225937\n",
      "epoch 91, loss 0.10733554512262344\n",
      "epoch 92, loss 0.10613703727722168\n",
      "epoch 93, loss 0.10495180636644363\n",
      "epoch 94, loss 0.10377981513738632\n",
      "epoch 95, loss 0.10262089222669601\n",
      "epoch 96, loss 0.10147502273321152\n",
      "epoch 97, loss 0.1003417894244194\n",
      "epoch 98, loss 0.09922132641077042\n",
      "epoch 99, loss 0.0981132984161377\n",
      "epoch 100, loss 0.09701769798994064\n"
     ]
    }
   ],
   "source": [
    "import torch\n",
    "import torch.nn as nn\n",
    "import numpy as np\n",
    "\n",
    "'''\n",
    "STEP 1: CREATE MODEL CLASS\n",
    "'''\n",
    "class LinearRegressionModel(nn.Module):\n",
    "    def __init__(self, input_dim, output_dim):\n",
    "        super(LinearRegressionModel, self).__init__()\n",
    "        self.linear = nn.Linear(input_dim, output_dim)  \n",
    "    \n",
    "    def forward(self, x):\n",
    "        out = self.linear(x)\n",
    "        return out\n",
    "\n",
    "'''\n",
    "STEP 2: INSTANTIATE MODEL CLASS\n",
    "'''\n",
    "input_dim = 1\n",
    "output_dim = 1\n",
    "\n",
    "model = LinearRegressionModel(input_dim, output_dim)\n",
    "\n",
    "\n",
    "#######################\n",
    "#  USE GPU FOR MODEL  #\n",
    "#######################\n",
    "\n",
    "device = torch.device(\"cuda:0\" if torch.cuda.is_available() else \"cpu\")\n",
    "model.to(device)\n",
    "\n",
    "'''\n",
    "STEP 3: INSTANTIATE LOSS CLASS\n",
    "'''\n",
    "\n",
    "criterion = nn.MSELoss()\n",
    "\n",
    "'''\n",
    "STEP 4: INSTANTIATE OPTIMIZER CLASS\n",
    "'''\n",
    "\n",
    "learning_rate = 0.01\n",
    "\n",
    "optimizer = torch.optim.SGD(model.parameters(), lr=learning_rate)\n",
    "\n",
    "'''\n",
    "STEP 5: TRAIN THE MODEL\n",
    "'''\n",
    "epochs = 100\n",
    "for epoch in range(epochs):\n",
    "    epoch += 1\n",
    "    # Convert numpy array to torch Variable\n",
    "    \n",
    "    #######################\n",
    "    #  USE GPU FOR MODEL  #\n",
    "    #######################\n",
    "    inputs = torch.from_numpy(x_train).to(device)\n",
    "    labels = torch.from_numpy(y_train).to(device)\n",
    "    \n",
    "    # Clear gradients w.r.t. parameters\n",
    "    optimizer.zero_grad() \n",
    "    \n",
    "    # Forward to get output\n",
    "    outputs = model(inputs)\n",
    "    \n",
    "    # Calculate Loss\n",
    "    loss = criterion(outputs, labels)\n",
    "    \n",
    "    # Getting gradients w.r.t. parameters\n",
    "    loss.backward()\n",
    "    \n",
    "    # Updating parameters\n",
    "    optimizer.step()\n",
    "    \n",
    "    # Logging\n",
    "    print('epoch {}, loss {}'.format(epoch, loss.item()))"
   ]
  },
  {
   "cell_type": "markdown",
   "metadata": {},
   "source": [
    "# Summary"
   ]
  },
  {
   "cell_type": "markdown",
   "metadata": {},
   "source": [
    "- Simple **linear regression basics**\n",
    "    - $y = Ax + B$\n",
    "    - $y = 2x + 1$\n",
    "- **Example** of simple linear regression\n",
    "- **Aim** of linear regression\n",
    "    - Minimizing distance between the points and the line\n",
    "        - Calculate \"distance\" through `MSE`\n",
    "        - Calculate `gradients`\n",
    "        - Update parameters with `parameters = parameters - learning_rate * gradients`\n",
    "        - Slowly update parameters $A$ and $B$ model the linear relationship between $y$ and $x$ of the form $y = 2x + 1$\n",
    "- Built a linear regression **model** in **CPU and GPU**\n",
    "    - Step 1: Create Model Class\n",
    "    - Step 2: Instantiate Model Class\n",
    "    - Step 3: Instantiate Loss Class\n",
    "    - Step 4: Instantiate Optimizer Class\n",
    "    - Step 5: Train Model\n",
    "- Important things to be on **GPU**\n",
    "    - `model`\n",
    "    - `tensors with gradients`\n",
    "- How to bring to **GPU**?\n",
    "    - `model_name.cuda()`\n",
    "    - `variable_name.cuda()`"
   ]
  }
 ],
 "metadata": {
  "anaconda-cloud": {},
  "kernelspec": {
   "display_name": "Python 3",
   "language": "python",
   "name": "python3"
  },
  "language_info": {
   "codemirror_mode": {
    "name": "ipython",
    "version": 3
   },
   "file_extension": ".py",
   "mimetype": "text/x-python",
   "name": "python",
   "nbconvert_exporter": "python",
   "pygments_lexer": "ipython3",
   "version": "3.7.1"
  }
 },
 "nbformat": 4,
 "nbformat_minor": 1
}
